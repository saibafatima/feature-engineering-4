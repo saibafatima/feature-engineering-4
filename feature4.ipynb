{
 "cells": [
  {
   "cell_type": "code",
   "execution_count": 1,
   "id": "49a61f99-9e89-4b19-aaf6-3822f3f19535",
   "metadata": {},
   "outputs": [
    {
     "ename": "SyntaxError",
     "evalue": "invalid syntax (418556784.py, line 1)",
     "output_type": "error",
     "traceback": [
      "\u001b[0;36m  Cell \u001b[0;32mIn[1], line 1\u001b[0;36m\u001b[0m\n\u001b[0;31m    Q1. What is the difference between Ordinal Encoding and Label Encoding? Provide an example of when you might choose one over the other.\u001b[0m\n\u001b[0m                    ^\u001b[0m\n\u001b[0;31mSyntaxError\u001b[0m\u001b[0;31m:\u001b[0m invalid syntax\n"
     ]
    }
   ],
   "source": [
    " Q1. What is the difference between Ordinal Encoding and Label Encoding? Provide an example of when you might choose one over the other.\n",
    "\n",
    "\n",
    "Label Encoding: Label Encoding is a technique used to convert categorical labels into numerical labels. It assigns a unique integer value to each category in the categorical feature. The integer values are arbitrary and do not imply any order or ranking."
   ]
  },
  {
   "cell_type": "code",
   "execution_count": 2,
   "id": "e3bdda24-964a-4359-955a-6910c05bc5d3",
   "metadata": {},
   "outputs": [
    {
     "name": "stdout",
     "output_type": "stream",
     "text": [
      "[0 1 2 0 1]\n",
      "[[1.]\n",
      " [2.]\n",
      " [0.]\n",
      " [1.]\n",
      " [2.]]\n"
     ]
    }
   ],
   "source": [
    "from sklearn.preprocessing import LabelEncoder\n",
    "\n",
    "le = LabelEncoder()\n",
    "labels = ['apple', 'banana', 'orange', 'apple', 'banana']\n",
    "encoded_labels = le.fit_transform(labels)\n",
    "print(encoded_labels)  # Output: [0 1 2 0 1]\n",
    "\n",
    "from sklearn.preprocessing import OrdinalEncoder\n",
    "\n",
    "oe = OrdinalEncoder()\n",
    "labels = [['low'], ['medium'], ['high'], ['low'], ['medium']]\n",
    "encoded_labels = oe.fit_transform(labels)\n",
    "print(encoded_labels)  # Output: [[0.], [1.], [2.], [0.], [1.]]"
   ]
  },
  {
   "cell_type": "code",
   "execution_count": 3,
   "id": "2a511192-0324-4ea2-8bf0-d33748907d4c",
   "metadata": {},
   "outputs": [
    {
     "ename": "SyntaxError",
     "evalue": "invalid syntax (3452413700.py, line 1)",
     "output_type": "error",
     "traceback": [
      "\u001b[0;36m  Cell \u001b[0;32mIn[3], line 1\u001b[0;36m\u001b[0m\n\u001b[0;31m    Q2. Explain how Target Guided Ordinal Encoding works and provide an example of when you might use it in a machine learning project.\u001b[0m\n\u001b[0m                ^\u001b[0m\n\u001b[0;31mSyntaxError\u001b[0m\u001b[0;31m:\u001b[0m invalid syntax\n"
     ]
    }
   ],
   "source": [
    "Q2. Explain how Target Guided Ordinal Encoding works and provide an example of when you might use it in a machine learning project.\n",
    "\n",
    "\n",
    "Target Guided Ordinal Encoding: Target Guided Ordinal Encoding is a technique used to convert categorical features into numerical features by assigning ordinal values based on the target variable. This encoding method is particularly useful when the categorical feature has a large number of categories and there is a strong correlation between the categorical feature and the target variable.\n",
    "\n",
    "How it works:\n",
    "\n",
    "Calculate the mean of the target variable for each category in the categorical feature.\n",
    "Sort the categories based on the mean of the target variable in ascending or descending order.\n",
    "Assign ordinal values to the categories based on their sorted order.\n",
    "Example: Suppose we have a dataset of customers with their credit scores and loan status (approved or rejected). We want to encode the categorical feature \"occupation\" using Target Guided Ordinal Encoding."
   ]
  },
  {
   "cell_type": "code",
   "execution_count": 4,
   "id": "b35b92ab-e591-4d69-a164-b2a65f8de52c",
   "metadata": {},
   "outputs": [
    {
     "name": "stdout",
     "output_type": "stream",
     "text": [
      "  occupation  credit_score  loan_status  occupation_encoded\n",
      "0   engineer           700            1                   2\n",
      "1     doctor           750            1                   0\n",
      "2     lawyer           800            1                   1\n",
      "3   engineer           650            0                   2\n",
      "4     doctor           720            1                   0\n",
      "5     lawyer           780            1                   1\n",
      "6    teacher           680            0                   3\n",
      "7   engineer           710            1                   2\n",
      "8     doctor           730            1                   0\n"
     ]
    }
   ],
   "source": [
    "import pandas as pd\n",
    "from sklearn.preprocessing import OrdinalEncoder\n",
    "\n",
    "# Sample dataset\n",
    "data = {'occupation': ['engineer', 'doctor', 'lawyer', 'engineer', 'doctor', 'lawyer', 'teacher', 'engineer', 'doctor'],\n",
    "        'credit_score': [700, 750, 800, 650, 720, 780, 680, 710, 730],\n",
    "        'loan_status': [1, 1, 1, 0, 1, 1, 0, 1, 1]}\n",
    "df = pd.DataFrame(data)\n",
    "\n",
    "# Calculate the mean of the target variable for each category\n",
    "occupation_means = df.groupby('occupation')['loan_status'].mean().reset_index()\n",
    "\n",
    "# Sort the categories based on the mean of the target variable\n",
    "occupation_means = occupation_means.sort_values('loan_status', ascending=False).reset_index(drop=True)\n",
    "\n",
    "# Assign ordinal values to the categories\n",
    "occupation_means['ordinal_value'] = occupation_means.index\n",
    "\n",
    "# Create a dictionary to map the categories to their ordinal values\n",
    "ordinal_mapping = dict(zip(occupation_means['occupation'], occupation_means['ordinal_value']))\n",
    "\n",
    "# Apply the ordinal encoding to the original dataset\n",
    "df['occupation_encoded'] = df['occupation'].map(ordinal_mapping)\n",
    "\n",
    "print(df)"
   ]
  },
  {
   "cell_type": "code",
   "execution_count": 5,
   "id": "d478ca08-dc1a-4552-a81e-ebc9bbe85ef2",
   "metadata": {},
   "outputs": [
    {
     "ename": "SyntaxError",
     "evalue": "invalid syntax (987303273.py, line 4)",
     "output_type": "error",
     "traceback": [
      "\u001b[0;36m  Cell \u001b[0;32mIn[5], line 4\u001b[0;36m\u001b[0m\n\u001b[0;31m    Covariance: Covariance is a measure of the linear relationship between two continuous random variables. It measures how much two variables change together. If the variables tend to increase or decrease together, they have a positive covariance. If one variable tends to increase when the other decreases, they have a negative covariance. If the variables do not tend to change together, they have a covariance of zero.\u001b[0m\n\u001b[0m                                ^\u001b[0m\n\u001b[0;31mSyntaxError\u001b[0m\u001b[0;31m:\u001b[0m invalid syntax\n"
     ]
    }
   ],
   "source": [
    "Q3. Define covariance and explain why it is important in statistical analysis. How is covariance calculated?\n",
    "\n",
    "\n",
    "Covariance: Covariance is a measure of the linear relationship between two continuous random variables. It measures how much two variables change together. If the variables tend to increase or decrease together, they have a positive covariance. If one variable tends to increase when the other decreases, they have a negative covariance. If the variables do not tend to change together, they have a covariance of zero.\n",
    "\n",
    "Why is covariance important in statistical analysis?: Covariance is important in statistical analysis because it helps to:\n",
    "\n",
    "Identify relationships: Covariance helps to identify the strength and direction of the linear relationship between two variables.\n",
    "Predict outcomes: By analyzing the covariance between variables, you can make predictions about the outcome of one variable based on the value of another variable.\n",
    "Reduce dimensionality: Covariance is used in dimensionality reduction techniques, such as Principal Component Analysis (PCA), to identify the most important features in a dataset.\n",
    "Portfolio optimization: In finance, covariance is used to optimize investment portfolios by minimizing risk and maximizing returns.\n",
    "How is covariance calculated?: The covariance between two variables X and Y is calculated as:\n",
    "\n",
    "cov(X, Y) = E[(X - E(X)) * (Y - E(Y))]\n",
    "\n",
    "where E(X) and E(Y) are the means of X and Y, respectively."
   ]
  },
  {
   "cell_type": "code",
   "execution_count": 6,
   "id": "0f1e2545-cdc0-43c5-8395-5b00e1686533",
   "metadata": {},
   "outputs": [
    {
     "name": "stdout",
     "output_type": "stream",
     "text": [
      "5.5\n"
     ]
    }
   ],
   "source": [
    "import numpy as np\n",
    "\n",
    "# Sample data\n",
    "X = np.array([1, 2, 3, 4, 5])\n",
    "Y = np.array([2, 3, 5, 7, 11])\n",
    "\n",
    "# Calculate the means\n",
    "mean_X = np.mean(X)\n",
    "mean_Y = np.mean(Y)\n",
    "\n",
    "# Calculate the covariance\n",
    "covariance = np.sum((X - mean_X) * (Y - mean_Y)) / (len(X) - 1)\n",
    "\n",
    "print(covariance)"
   ]
  },
  {
   "cell_type": "code",
   "execution_count": 7,
   "id": "ce05fd21-0df9-46d9-b79c-491740b54f82",
   "metadata": {},
   "outputs": [
    {
     "name": "stdout",
     "output_type": "stream",
     "text": [
      "   Color    Size Material  Color_encoded  Size_encoded  Material_encoded\n",
      "0    red   small     wood              2             2                 2\n",
      "1  green  medium    metal              1             1                 0\n",
      "2   blue   large  plastic              0             0                 1\n",
      "3    red   small     wood              2             2                 2\n",
      "4  green  medium    metal              1             1                 0\n",
      "5   blue   large  plastic              0             0                 1\n"
     ]
    }
   ],
   "source": [
    "#Q4. For a dataset with the following categorical variables: Color (red, green, blue), Size (small, medium, large), and Material (wood, metal, plastic), perform label encoding using Python's scikit-learn library. Show your code and explain the output.\n",
    "\n",
    "\n",
    "import pandas as pd\n",
    "from sklearn.preprocessing import LabelEncoder\n",
    "\n",
    "# Sample dataset\n",
    "data = {'Color': ['red', 'green', 'blue', 'red', 'green', 'blue'],\n",
    "        'Size': ['small', 'medium', 'large', 'small', 'medium', 'large'],\n",
    "        'Material': ['wood', 'metal', 'plastic', 'wood', 'metal', 'plastic']}\n",
    "df = pd.DataFrame(data)\n",
    "\n",
    "# Create a LabelEncoder object\n",
    "le = LabelEncoder()\n",
    "\n",
    "# Apply label encoding to each categorical column\n",
    "df['Color_encoded'] = le.fit_transform(df['Color'])\n",
    "df['Size_encoded'] = le.fit_transform(df['Size'])\n",
    "df['Material_encoded'] = le.fit_transform(df['Material'])\n",
    "\n",
    "print(df)"
   ]
  },
  {
   "cell_type": "code",
   "execution_count": 8,
   "id": "13bae927-7f1e-42ba-9fca-2ee2901ba9a9",
   "metadata": {},
   "outputs": [
    {
     "name": "stdout",
     "output_type": "stream",
     "text": [
      "                           Age        Income  Education level\n",
      "Age                  84.677778  1.693889e+05        13.333333\n",
      "Income           169388.888889  3.391667e+08     26666.666667\n",
      "Education level      13.333333  2.666667e+04         2.222222\n"
     ]
    }
   ],
   "source": [
    "#Q5. Calculate the covariance matrix for the following variables in a dataset: Age, Income, and Education level. Interpret the results.\n",
    "\n",
    "import pandas as pd\n",
    "import numpy as np\n",
    "\n",
    "# Sample dataset\n",
    "data = {'Age': [25, 30, 35, 20, 28, 32, 40, 38, 45, 50],\n",
    "        'Income': [50000, 60000, 70000, 40000, 55000, 65000, 80000, 75000, 90000, 100000],\n",
    "        'Education level': [1, 2, 3, 1, 2, 3, 4, 4, 5, 5]}\n",
    "df = pd.DataFrame(data)\n",
    "\n",
    "# Calculate the covariance matrix\n",
    "cov_matrix = df.cov()\n",
    "\n",
    "print(cov_matrix)"
   ]
  },
  {
   "cell_type": "code",
   "execution_count": 9,
   "id": "c4ce79bc-e7f1-4812-9e50-d4ac075fef06",
   "metadata": {},
   "outputs": [
    {
     "name": "stdout",
     "output_type": "stream",
     "text": [
      "   Gender Education Level  Gender_encoded  Education Level_encoded  \\\n",
      "0    Male     High School               1                        0   \n",
      "1  Female      Bachelor's               0                        1   \n",
      "2    Male        Master's               1                        2   \n",
      "3  Female             PhD               0                        3   \n",
      "4    Male     High School               1                        0   \n",
      "\n",
      "   Employment Status_Full-Time  Employment Status_Part-Time  \\\n",
      "0                            0                            0   \n",
      "1                            0                            1   \n",
      "2                            1                            0   \n",
      "3                            0                            1   \n",
      "4                            0                            0   \n",
      "\n",
      "   Employment Status_Unemployed  \n",
      "0                             1  \n",
      "1                             0  \n",
      "2                             0  \n",
      "3                             0  \n",
      "4                             1  \n"
     ]
    }
   ],
   "source": [
    "#Q6. You are working on a machine learning project with a dataset containing several categorical variables, including \"Gender\" (Male/Female), \"Education Level\" (High School/Bachelor's/Master's/PhD), and \"Employment Status\" (Unemployed/Part-Time/Full-Time). Which encoding method would you use for each variable, and why?\n",
    "\n",
    "import pandas as pd\n",
    "\n",
    "# Sample dataset\n",
    "data = {'Gender': ['Male', 'Female', 'Male', 'Female', 'Male'],\n",
    "        'Education Level': ['High School', 'Bachelor\\'s', 'Master\\'s', 'PhD', 'High School'],\n",
    "        'Employment Status': ['Unemployed', 'Part-Time', 'Full-Time', 'Part-Time', 'Unemployed']}\n",
    "df = pd.DataFrame(data)\n",
    "\n",
    "# Encode Gender using Label Encoding\n",
    "from sklearn.preprocessing import LabelEncoder\n",
    "le = LabelEncoder()\n",
    "df['Gender_encoded'] = le.fit_transform(df['Gender'])\n",
    "\n",
    "# Encode Education Level using Ordinal Encoding\n",
    "education_levels = ['High School', 'Bachelor\\'s', 'Master\\'s', 'PhD']\n",
    "df['Education Level_encoded'] = df['Education Level'].map({level: i for i, level in enumerate(education_levels)})\n",
    "\n",
    "# Encode Employment Status using One-Hot Encoding\n",
    "df_ohe = pd.get_dummies(df, columns=['Employment Status'])\n",
    "\n",
    "print(df_ohe.head())"
   ]
  },
  {
   "cell_type": "code",
   "execution_count": 10,
   "id": "0e99cc6e-976d-42d6-bc44-a82e9df5b353",
   "metadata": {},
   "outputs": [
    {
     "name": "stdout",
     "output_type": "stream",
     "text": [
      "Covariance between Temperature and Humidity: 24.70\n",
      "Covariance between Temperature and Weather Condition: -0.14\n",
      "Covariance between Temperature and Wind Direction: 2.21\n",
      "Covariance between Humidity and Weather Condition: 1.71\n",
      "Covariance between Humidity and Wind Direction: 4.93\n"
     ]
    }
   ],
   "source": [
    "# Q7. You are analyzing a dataset with two continuous variables, \"Temperature\" and \"Humidity\", and two categorical variables, \"Weather Condition\" (Sunny/Cloudy/Rainy) and \"Wind Direction\" (North/South/ East/West). Calculate the covariance between each pair of variables and interpret the results.\n",
    "\n",
    "import pandas as pd\n",
    "import numpy as np\n",
    "\n",
    "# Sample dataset\n",
    "data = {'Temperature': [25, 28, 22, 30, 26, 24, 27, 29],\n",
    "        'Humidity': [60, 70, 50, 80, 65, 55, 75, 68],\n",
    "        'Weather Condition': ['Sunny', 'Cloudy', 'Rainy', 'Sunny', 'Cloudy', 'Rainy', 'Sunny', 'Cloudy'],\n",
    "        'Wind Direction': ['North', 'South', 'East', 'West', 'North', 'South', 'East', 'West']}\n",
    "df = pd.DataFrame(data)\n",
    "\n",
    "# Calculate covariance between continuous variables\n",
    "cov_temp_humidity = np.cov(df['Temperature'], df['Humidity'])[0, 1]\n",
    "print(f\"Covariance between Temperature and Humidity: {cov_temp_humidity:.2f}\")\n",
    "\n",
    "# Calculate covariance between continuous and categorical variables\n",
    "# We need to encode the categorical variables first\n",
    "from sklearn.preprocessing import LabelEncoder\n",
    "le = LabelEncoder()\n",
    "\n",
    "df['Weather Condition_encoded'] = le.fit_transform(df['Weather Condition'])\n",
    "df['Wind Direction_encoded'] = le.fit_transform(df['Wind Direction'])\n",
    "\n",
    "cov_temp_weather = np.cov(df['Temperature'], df['Weather Condition_encoded'])[0, 1]\n",
    "cov_temp_wind = np.cov(df['Temperature'], df['Wind Direction_encoded'])[0, 1]\n",
    "cov_humidity_weather = np.cov(df['Humidity'], df['Weather Condition_encoded'])[0, 1]\n",
    "cov_humidity_wind = np.cov(df['Humidity'], df['Wind Direction_encoded'])[0, 1]\n",
    "\n",
    "print(f\"Covariance between Temperature and Weather Condition: {cov_temp_weather:.2f}\")\n",
    "print(f\"Covariance between Temperature and Wind Direction: {cov_temp_wind:.2f}\")\n",
    "print(f\"Covariance between Humidity and Weather Condition: {cov_humidity_weather:.2f}\")\n",
    "print(f\"Covariance between Humidity and Wind Direction: {cov_humidity_wind:.2f}\")"
   ]
  },
  {
   "cell_type": "code",
   "execution_count": null,
   "id": "200447ea-23ac-45b1-a876-7336eeccc992",
   "metadata": {},
   "outputs": [],
   "source": []
  }
 ],
 "metadata": {
  "kernelspec": {
   "display_name": "Python 3 (ipykernel)",
   "language": "python",
   "name": "python3"
  },
  "language_info": {
   "codemirror_mode": {
    "name": "ipython",
    "version": 3
   },
   "file_extension": ".py",
   "mimetype": "text/x-python",
   "name": "python",
   "nbconvert_exporter": "python",
   "pygments_lexer": "ipython3",
   "version": "3.10.8"
  }
 },
 "nbformat": 4,
 "nbformat_minor": 5
}
